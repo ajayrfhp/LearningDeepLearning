{
  "nbformat": 4,
  "nbformat_minor": 0,
  "metadata": {
    "colab": {
      "provenance": [],
      "authorship_tag": "ABX9TyOt/onJaFwjqwqymUOo+uw9",
      "include_colab_link": true
    },
    "kernelspec": {
      "name": "python3",
      "display_name": "Python 3"
    },
    "language_info": {
      "name": "python"
    }
  },
  "cells": [
    {
      "cell_type": "markdown",
      "metadata": {
        "id": "view-in-github",
        "colab_type": "text"
      },
      "source": [
        "<a href=\"https://colab.research.google.com/github/ajayrfhp/LearningDeepLearning/blob/main/blocks.ipynb\" target=\"_parent\"><img src=\"https://colab.research.google.com/assets/colab-badge.svg\" alt=\"Open In Colab\"/></a>"
      ]
    },
    {
      "cell_type": "code",
      "execution_count": 2,
      "metadata": {
        "id": "AcnIaDY984Q8"
      },
      "outputs": [],
      "source": [
        "import torch\n",
        "from torch import nn"
      ]
    },
    {
      "cell_type": "markdown",
      "source": [
        "## Standard CNN block\n",
        "  - Conv, batchNorm, Relu\n",
        "  "
      ],
      "metadata": {
        "id": "Usto0hrr9KjW"
      }
    },
    {
      "cell_type": "code",
      "source": [
        "class ConvBlock(nn.Sequential):\n",
        "    def __init__(self, in_channels, out_channels, pooling=False, activation=nn.ReLU, groups=1, padding=1, kernel_size=3):\n",
        "        super().__init__()\n",
        "        self.net = nn.Sequential(\n",
        "            nn.Conv2d(in_channels, out_channels, kernel_size=kernel_size, padding=padding, groups=groups),\n",
        "            nn.BatchNorm2d(out_channels),\n",
        "            activation()\n",
        "        )\n",
        "        if pooling:\n",
        "            self.net.add_module(\"pooling\", nn.MaxPool2d(2))\n",
        "\n",
        "    def forward(self, x):\n",
        "      return self.net(x)\n",
        "\n",
        "t = torch.randn((1, 3, 28, 28)).float()\n",
        "conv = ConvBlock(3, 10)\n",
        "conv(t).shape\n"
      ],
      "metadata": {
        "colab": {
          "base_uri": "https://localhost:8080/"
        },
        "id": "FdPO5L6F9OPY",
        "outputId": "542febc4-85b5-429e-cdb7-6b894e1a1a8f"
      },
      "execution_count": 18,
      "outputs": [
        {
          "output_type": "execute_result",
          "data": {
            "text/plain": [
              "torch.Size([1, 10, 28, 28])"
            ]
          },
          "metadata": {},
          "execution_count": 18
        }
      ]
    },
    {
      "cell_type": "markdown",
      "source": [
        "## ResBlock\n",
        "  - WHat was new ?\n",
        "    - Add input to output. Useful to build deep networks by allowing gradient propagation\n",
        "    - Use shortcut to match shape of input with output from residual\n",
        "  - Is it still used ?\n",
        "    - Yes"
      ],
      "metadata": {
        "id": "hEOtMk-y93G3"
      }
    },
    {
      "cell_type": "code",
      "source": [
        "class ResidualAdd(nn.Module):\n",
        "    def __init__(self, block, short_cut=None):\n",
        "        super().__init__()\n",
        "        self.block = block\n",
        "        self.short_cut = short_cut\n",
        "\n",
        "    def forward(self, x):\n",
        "      res = self.block(x)\n",
        "      if self.short_cut:\n",
        "        x = self.short_cut(x)\n",
        "      return x + res\n",
        "\n",
        "\n",
        "\n",
        "res_add = ResidualAdd(ConvBlock(3, 10), short_cut=ConvBlock(3, 10))\n",
        "res_add(t).shape\n"
      ],
      "metadata": {
        "colab": {
          "base_uri": "https://localhost:8080/"
        },
        "id": "lPkXKXvZ9e8d",
        "outputId": "86b0ebc1-b8a3-4497-e913-13c7fba415e9"
      },
      "execution_count": 35,
      "outputs": [
        {
          "output_type": "execute_result",
          "data": {
            "text/plain": [
              "torch.Size([1, 10, 28, 28])"
            ]
          },
          "metadata": {},
          "execution_count": 35
        }
      ]
    },
    {
      "cell_type": "markdown",
      "source": [
        "## Bottleneck block\n",
        "![image.png](data:image/png;base64,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)"
      ],
      "metadata": {
        "id": "NfzK9vpn_mjO"
      }
    },
    {
      "cell_type": "markdown",
      "source": [
        "- What was new ?\n",
        "  - 3 conv layers without bottleneck\n",
        "    - CONV(C, 3, 3) -> CONV(C, 3, 3) -> CONV(C, 3, 3)\n",
        "  - 3 conv layers with bottleneck\n",
        "    - CONV(C/4, 1, 1) -> CONV(C/4, 3, 3) -> CONV(C, 1, 1)\n",
        "  - Faster than doing 3 convs in channel space\n",
        "  - Computational cost\n",
        "    - Standard CNN Cost = (C_i * C_o * W * H * k * k)\n",
        "    - Old cost = 3 * ( W * H * C * C * 9 ) = 27X\n",
        "    - New cost = (W * H * C * C)/2 + (W * H *C/4* C/4* 9) = 1.1X\n",
        "  - For kernel size 3 and bottleneck factor 4, computational cost is reduced by ¬25x.\n",
        "- Is it still relevant\n",
        "  - Probably ?\n"
      ],
      "metadata": {
        "id": "EVZjFRP2_0l6"
      }
    },
    {
      "cell_type": "code",
      "source": [
        "class BottleNeckBlock(nn.Sequential):\n",
        "    def __init__(self, in_channels, out_channels, bottleneck_factor=4):\n",
        "        super().__init__()\n",
        "        self.bottleneck_channels = int(out_channels // bottleneck_factor)\n",
        "        self.block = nn.Sequential(\n",
        "            ConvBlock(in_channels, self.bottleneck_channels, kernel_size=1, padding=0),\n",
        "            ConvBlock(self.bottleneck_channels, self.bottleneck_channels, kernel_size=3, padding=1),\n",
        "            ConvBlock(self.bottleneck_channels, out_channels, kernel_size=1, activation=nn.Identity, padding=0),\n",
        "        )\n",
        "        self.net = ResidualAdd(self.block, short_cut=ConvBlock(in_channels, out_channels, kernel_size=1, padding=0))\n",
        "\n",
        "    def forward(self, x):\n",
        "      return self.net(x)\n",
        "\n",
        "t = torch.randn((1, 3, 28, 28)).float()\n",
        "conv = BottleNeckBlock(3, 10)\n",
        "conv(t).shape\n"
      ],
      "metadata": {
        "id": "lkV13N-0-a6J",
        "colab": {
          "base_uri": "https://localhost:8080/"
        },
        "outputId": "b462a1ef-1b60-483a-a028-f16b14902730"
      },
      "execution_count": 28,
      "outputs": [
        {
          "output_type": "execute_result",
          "data": {
            "text/plain": [
              "torch.Size([1, 10, 28, 28])"
            ]
          },
          "metadata": {},
          "execution_count": 28
        }
      ]
    },
    {
      "cell_type": "markdown",
      "source": [
        "## MBCONV\n",
        "- What was new ?\n",
        "  - aka inverted residual block according to [papersWithCode](https://paperswithcode.com/method/inverted-residual-block)\n",
        "  - Increase channel resolution and apply depth wise convs in increased channel space\n",
        "  - $Conv(4*C, 1, 1), CONV(4C, 3, 3, groups=C), CONV(C, 1, 1)$\n",
        "- Is it still relevant ?\n",
        "  - no. Depth wise conv is too slow replaced with FusionMBBlock\n",
        "\n",
        "\n"
      ],
      "metadata": {
        "id": "GGEI22rdFHYI"
      }
    },
    {
      "cell_type": "code",
      "source": [
        "class MBConvBlock(nn.Sequential):\n",
        "    def __init__(self, in_channels, out_channels, bottleneck_factor=4):\n",
        "        super().__init__()\n",
        "        self.bottleneck_channels = int(out_channels * bottleneck_factor)\n",
        "        self.block = nn.Sequential(\n",
        "            ConvBlock(in_channels, self.bottleneck_channels, kernel_size=1, padding=0),\n",
        "            ConvBlock(self.bottleneck_channels, self.bottleneck_channels, kernel_size=3, padding=1, groups=self.bottleneck_channels),\n",
        "            ConvBlock(self.bottleneck_channels, out_channels, kernel_size=1, activation=nn.Identity, padding=0),\n",
        "        )\n",
        "        self.net = ResidualAdd(self.block, short_cut=ConvBlock(in_channels, out_channels, kernel_size=1, padding=0))\n",
        "\n",
        "    def forward(self, x):\n",
        "      return self.net(x)\n",
        "\n",
        "t = torch.randn((1, 3, 28, 28)).float()\n",
        "conv = MBConvBlock(3, 10)\n",
        "conv(t).shape\n",
        "conv"
      ],
      "metadata": {
        "colab": {
          "base_uri": "https://localhost:8080/"
        },
        "id": "AKZXKAkJDg6d",
        "outputId": "4c92f438-31f8-40c1-c8cd-5620e04c1bf7"
      },
      "execution_count": 32,
      "outputs": [
        {
          "output_type": "execute_result",
          "data": {
            "text/plain": [
              "MBConvBlock(\n",
              "  (block): Sequential(\n",
              "    (0): ConvBlock(\n",
              "      (net): Sequential(\n",
              "        (0): Conv2d(3, 40, kernel_size=(1, 1), stride=(1, 1))\n",
              "        (1): BatchNorm2d(40, eps=1e-05, momentum=0.1, affine=True, track_running_stats=True)\n",
              "        (2): ReLU()\n",
              "      )\n",
              "    )\n",
              "    (1): ConvBlock(\n",
              "      (net): Sequential(\n",
              "        (0): Conv2d(40, 40, kernel_size=(3, 3), stride=(1, 1), padding=(1, 1), groups=40)\n",
              "        (1): BatchNorm2d(40, eps=1e-05, momentum=0.1, affine=True, track_running_stats=True)\n",
              "        (2): ReLU()\n",
              "      )\n",
              "    )\n",
              "    (2): ConvBlock(\n",
              "      (net): Sequential(\n",
              "        (0): Conv2d(40, 10, kernel_size=(1, 1), stride=(1, 1))\n",
              "        (1): BatchNorm2d(10, eps=1e-05, momentum=0.1, affine=True, track_running_stats=True)\n",
              "        (2): Identity()\n",
              "      )\n",
              "    )\n",
              "  )\n",
              "  (net): ResidualAdd(\n",
              "    (block): Sequential(\n",
              "      (0): ConvBlock(\n",
              "        (net): Sequential(\n",
              "          (0): Conv2d(3, 40, kernel_size=(1, 1), stride=(1, 1))\n",
              "          (1): BatchNorm2d(40, eps=1e-05, momentum=0.1, affine=True, track_running_stats=True)\n",
              "          (2): ReLU()\n",
              "        )\n",
              "      )\n",
              "      (1): ConvBlock(\n",
              "        (net): Sequential(\n",
              "          (0): Conv2d(40, 40, kernel_size=(3, 3), stride=(1, 1), padding=(1, 1), groups=40)\n",
              "          (1): BatchNorm2d(40, eps=1e-05, momentum=0.1, affine=True, track_running_stats=True)\n",
              "          (2): ReLU()\n",
              "        )\n",
              "      )\n",
              "      (2): ConvBlock(\n",
              "        (net): Sequential(\n",
              "          (0): Conv2d(40, 10, kernel_size=(1, 1), stride=(1, 1))\n",
              "          (1): BatchNorm2d(10, eps=1e-05, momentum=0.1, affine=True, track_running_stats=True)\n",
              "          (2): Identity()\n",
              "        )\n",
              "      )\n",
              "    )\n",
              "    (short_cut): ConvBlock(\n",
              "      (net): Sequential(\n",
              "        (0): Conv2d(3, 10, kernel_size=(1, 1), stride=(1, 1))\n",
              "        (1): BatchNorm2d(10, eps=1e-05, momentum=0.1, affine=True, track_running_stats=True)\n",
              "        (2): ReLU()\n",
              "      )\n",
              "    )\n",
              "  )\n",
              ")"
            ]
          },
          "metadata": {},
          "execution_count": 32
        }
      ]
    },
    {
      "cell_type": "markdown",
      "source": [
        "## FusedMBBLOCk\n",
        "- Depthwise convs are slow, so fuse $1*1$ conv with $3*3$ conv"
      ],
      "metadata": {
        "id": "TczXlWTBJP4e"
      }
    },
    {
      "cell_type": "code",
      "source": [
        "class FusedMBConvBlock(nn.Sequential):\n",
        "    def __init__(self, in_channels, out_channels, bottleneck_factor=4):\n",
        "        super().__init__()\n",
        "        self.bottleneck_channels = int(out_channels * bottleneck_factor)\n",
        "        self.block = nn.Sequential(\n",
        "            ConvBlock(in_channels, self.bottleneck_channels, kernel_size=3, padding=1),\n",
        "            ConvBlock(self.bottleneck_channels, out_channels, kernel_size=1, activation=nn.Identity, padding=0),\n",
        "        )\n",
        "        self.net = ResidualAdd(self.block, short_cut=ConvBlock(in_channels, out_channels, kernel_size=1, padding=0))\n",
        "\n",
        "    def forward(self, x):\n",
        "      return self.net(x)\n",
        "\n",
        "t = torch.randn((1, 3, 28, 28)).float()\n",
        "conv = FusedMBConvBlock(3, 10)\n",
        "conv(t).shape\n",
        "conv"
      ],
      "metadata": {
        "colab": {
          "base_uri": "https://localhost:8080/"
        },
        "id": "BSRXsMzAHYeg",
        "outputId": "3b5e664b-7d0c-45e0-bfcb-6c07b5613766"
      },
      "execution_count": 34,
      "outputs": [
        {
          "output_type": "execute_result",
          "data": {
            "text/plain": [
              "FusedMBConvBlock(\n",
              "  (block): Sequential(\n",
              "    (0): ConvBlock(\n",
              "      (net): Sequential(\n",
              "        (0): Conv2d(3, 40, kernel_size=(3, 3), stride=(1, 1), padding=(1, 1))\n",
              "        (1): BatchNorm2d(40, eps=1e-05, momentum=0.1, affine=True, track_running_stats=True)\n",
              "        (2): ReLU()\n",
              "      )\n",
              "    )\n",
              "    (1): ConvBlock(\n",
              "      (net): Sequential(\n",
              "        (0): Conv2d(40, 10, kernel_size=(1, 1), stride=(1, 1))\n",
              "        (1): BatchNorm2d(10, eps=1e-05, momentum=0.1, affine=True, track_running_stats=True)\n",
              "        (2): Identity()\n",
              "      )\n",
              "    )\n",
              "  )\n",
              "  (net): ResidualAdd(\n",
              "    (block): Sequential(\n",
              "      (0): ConvBlock(\n",
              "        (net): Sequential(\n",
              "          (0): Conv2d(3, 40, kernel_size=(3, 3), stride=(1, 1), padding=(1, 1))\n",
              "          (1): BatchNorm2d(40, eps=1e-05, momentum=0.1, affine=True, track_running_stats=True)\n",
              "          (2): ReLU()\n",
              "        )\n",
              "      )\n",
              "      (1): ConvBlock(\n",
              "        (net): Sequential(\n",
              "          (0): Conv2d(40, 10, kernel_size=(1, 1), stride=(1, 1))\n",
              "          (1): BatchNorm2d(10, eps=1e-05, momentum=0.1, affine=True, track_running_stats=True)\n",
              "          (2): Identity()\n",
              "        )\n",
              "      )\n",
              "    )\n",
              "    (short_cut): ConvBlock(\n",
              "      (net): Sequential(\n",
              "        (0): Conv2d(3, 10, kernel_size=(1, 1), stride=(1, 1))\n",
              "        (1): BatchNorm2d(10, eps=1e-05, momentum=0.1, affine=True, track_running_stats=True)\n",
              "        (2): ReLU()\n",
              "      )\n",
              "    )\n",
              "  )\n",
              ")"
            ]
          },
          "metadata": {},
          "execution_count": 34
        }
      ]
    },
    {
      "cell_type": "code",
      "source": [],
      "metadata": {
        "id": "pJMj7rLWJo-6"
      },
      "execution_count": null,
      "outputs": []
    }
  ]
}