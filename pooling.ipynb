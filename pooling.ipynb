{
  "nbformat": 4,
  "nbformat_minor": 0,
  "metadata": {
    "colab": {
      "provenance": [],
      "authorship_tag": "ABX9TyMSdGXiVZVndk+ZI1Je/c5Z",
      "include_colab_link": true
    },
    "kernelspec": {
      "name": "python3",
      "display_name": "Python 3"
    },
    "language_info": {
      "name": "python"
    }
  },
  "cells": [
    {
      "cell_type": "markdown",
      "metadata": {
        "id": "view-in-github",
        "colab_type": "text"
      },
      "source": [
        "<a href=\"https://colab.research.google.com/github/ajayrfhp/LearningDeepLearning/blob/main/pooling.ipynb\" target=\"_parent\"><img src=\"https://colab.research.google.com/assets/colab-badge.svg\" alt=\"Open In Colab\"/></a>"
      ]
    },
    {
      "cell_type": "code",
      "execution_count": null,
      "metadata": {
        "colab": {
          "base_uri": "https://localhost:8080/",
          "height": 545
        },
        "id": "ZJHZ_miBHXsX",
        "outputId": "38ef67c6-8a95-4333-c625-88884f4d32b0"
      },
      "outputs": [
        {
          "output_type": "stream",
          "name": "stdout",
          "text": [
            "Installing collected packages: tzdata, scipy, qtpy, pyparsing, jedi, pandas, matplotlib, qtconsole, jupyter, d2l\n",
            "  Attempting uninstall: scipy\n",
            "    Found existing installation: scipy 1.11.4\n",
            "    Uninstalling scipy-1.11.4:\n",
            "      Successfully uninstalled scipy-1.11.4\n",
            "  Attempting uninstall: pyparsing\n",
            "    Found existing installation: pyparsing 3.1.1\n",
            "    Uninstalling pyparsing-3.1.1:\n",
            "      Successfully uninstalled pyparsing-3.1.1\n",
            "  Attempting uninstall: pandas\n",
            "    Found existing installation: pandas 1.5.3\n",
            "    Uninstalling pandas-1.5.3:\n",
            "      Successfully uninstalled pandas-1.5.3\n",
            "  Attempting uninstall: matplotlib\n",
            "    Found existing installation: matplotlib 3.7.1\n",
            "    Uninstalling matplotlib-3.7.1:\n",
            "      Successfully uninstalled matplotlib-3.7.1\n",
            "\u001b[31mERROR: pip's dependency resolver does not currently take into account all the packages that are installed. This behaviour is the source of the following dependency conflicts.\n",
            "lida 0.0.10 requires fastapi, which is not installed.\n",
            "lida 0.0.10 requires kaleido, which is not installed.\n",
            "lida 0.0.10 requires python-multipart, which is not installed.\n",
            "lida 0.0.10 requires uvicorn, which is not installed.\n",
            "google-colab 1.0.0 requires pandas==1.5.3, but you have pandas 2.0.3 which is incompatible.\u001b[0m\u001b[31m\n",
            "\u001b[0mSuccessfully installed d2l-1.0.3 jedi-0.19.1 jupyter-1.0.0 matplotlib-3.7.2 pandas-2.0.3 pyparsing-3.0.9 qtconsole-5.5.1 qtpy-2.4.1 scipy-1.10.1 tzdata-2023.4\n"
          ]
        },
        {
          "output_type": "display_data",
          "data": {
            "application/vnd.colab-display-data+json": {
              "pip_warning": {
                "packages": [
                  "matplotlib",
                  "mpl_toolkits"
                ]
              }
            }
          },
          "metadata": {}
        }
      ],
      "source": [
        "!pip install d2l"
      ]
    },
    {
      "cell_type": "markdown",
      "source": [
        "## Pooling\n",
        "- Condense information from an area using the pooling operator\n",
        "- Pooling layer has no parameters\n",
        "- Max pooling is generally preferred over average pooling in all cases.\n",
        "   - Objects in image might be present in different regions, averaging over regions where object is present and not present with equal weights, does not make sense.\n",
        "- Deep learning frameworks typically default to same pooling and stride values"
      ],
      "metadata": {
        "id": "ZOC8_9NWHzuH"
      }
    },
    {
      "cell_type": "code",
      "source": [
        "import torch\n",
        "from torch import nn\n",
        "import torchvision\n",
        "from d2l import torch as d2l\n",
        "import numpy as np"
      ],
      "metadata": {
        "id": "v_0IIlSAISI_"
      },
      "execution_count": null,
      "outputs": []
    },
    {
      "cell_type": "code",
      "source": [
        "x = torch.tensor(([\n",
        "    [1, 2, 3],\n",
        "    [4, 5, 6],\n",
        "    [7, 8, 9]]))\n",
        "\n",
        "def pool(x, p, padding_type='same'):\n",
        "  \"\"\"\n",
        "  Args\n",
        "    x - (c, h, w)\n",
        "    p - int pooling size\n",
        "  Returns\n",
        "    o - (h-p+1, w-p+1)\n",
        "  \"\"\"\n",
        "  if x.ndim == 2:\n",
        "    x = x.unsqueeze(dim=0)\n",
        "  c, h, w = x.shape[0], x.shape[1], x.shape[2]\n",
        "  o = torch.zeros((c, h, w))\n",
        "  if padding_type == 'valid':\n",
        "    o = torch.zeros((c, h-p+1, w-p+1))\n",
        "\n",
        "  for i in range(o.shape[1]):\n",
        "    for j in range(o.shape[2]):\n",
        "      o[:, i, j] = x[:, i:i+p, j:j+p].max()\n",
        "\n",
        "  return o\n",
        "\n",
        "pool(x, 2)"
      ],
      "metadata": {
        "colab": {
          "base_uri": "https://localhost:8080/"
        },
        "id": "BHmIUrKdI7ju",
        "outputId": "9d3e4a05-1543-4d5a-c79c-d43268229d1a"
      },
      "execution_count": null,
      "outputs": [
        {
          "output_type": "execute_result",
          "data": {
            "text/plain": [
              "tensor([[[5., 6., 6.],\n",
              "         [8., 9., 9.],\n",
              "         [8., 9., 9.]]])"
            ]
          },
          "metadata": {},
          "execution_count": 17
        }
      ]
    },
    {
      "cell_type": "code",
      "source": [
        "pool(x, 2, padding_type='valid')"
      ],
      "metadata": {
        "colab": {
          "base_uri": "https://localhost:8080/"
        },
        "id": "NxWHIv_ZKkZD",
        "outputId": "2d36c4f1-5cda-4275-83ae-5cdcb19a8c9a"
      },
      "execution_count": null,
      "outputs": [
        {
          "output_type": "execute_result",
          "data": {
            "text/plain": [
              "tensor([[[5., 6.],\n",
              "         [8., 9.]]])"
            ]
          },
          "metadata": {},
          "execution_count": 18
        }
      ]
    },
    {
      "cell_type": "code",
      "source": [
        "x3d = torch.arange(0, 27).reshape((3, 3, 3))\n",
        "pool(x3d,p=2)"
      ],
      "metadata": {
        "colab": {
          "base_uri": "https://localhost:8080/"
        },
        "id": "qjOWQVJzLe60",
        "outputId": "39b47e8d-a777-4b84-e268-ae101c158f10"
      },
      "execution_count": null,
      "outputs": [
        {
          "output_type": "execute_result",
          "data": {
            "text/plain": [
              "tensor([[[22., 23., 23.],\n",
              "         [25., 26., 26.],\n",
              "         [25., 26., 26.]],\n",
              "\n",
              "        [[22., 23., 23.],\n",
              "         [25., 26., 26.],\n",
              "         [25., 26., 26.]],\n",
              "\n",
              "        [[22., 23., 23.],\n",
              "         [25., 26., 26.],\n",
              "         [25., 26., 26.]]])"
            ]
          },
          "metadata": {},
          "execution_count": 20
        }
      ]
    },
    {
      "cell_type": "code",
      "source": [
        "x3d"
      ],
      "metadata": {
        "colab": {
          "base_uri": "https://localhost:8080/"
        },
        "id": "BRh2DHDZLwgT",
        "outputId": "5684c9c7-26f7-4209-86e0-702a77bb8d32"
      },
      "execution_count": null,
      "outputs": [
        {
          "output_type": "execute_result",
          "data": {
            "text/plain": [
              "tensor([[[ 0,  1,  2],\n",
              "         [ 3,  4,  5],\n",
              "         [ 6,  7,  8]],\n",
              "\n",
              "        [[ 9, 10, 11],\n",
              "         [12, 13, 14],\n",
              "         [15, 16, 17]],\n",
              "\n",
              "        [[18, 19, 20],\n",
              "         [21, 22, 23],\n",
              "         [24, 25, 26]]])"
            ]
          },
          "metadata": {},
          "execution_count": 21
        }
      ]
    },
    {
      "cell_type": "code",
      "source": [
        "nn.MaxPool2d(kernel_size=3).forward(x3d)"
      ],
      "metadata": {
        "colab": {
          "base_uri": "https://localhost:8080/"
        },
        "id": "d9ljgYQHMuFq",
        "outputId": "a99e3534-f498-4dfc-e07b-1042af2d191f"
      },
      "execution_count": null,
      "outputs": [
        {
          "output_type": "execute_result",
          "data": {
            "text/plain": [
              "tensor([[[ 8]],\n",
              "\n",
              "        [[17]],\n",
              "\n",
              "        [[26]]])"
            ]
          },
          "metadata": {},
          "execution_count": 24
        }
      ]
    },
    {
      "cell_type": "markdown",
      "source": [
        "- For a pooling layer, number of input channels = number of output channels. We typically do not do channel wise pooling\n",
        "- Pooling is simple and works reasonably well, but applying self attention to weigh over inputs works a lot better,,"
      ],
      "metadata": {
        "id": "UWxauszANcPu"
      }
    },
    {
      "cell_type": "markdown",
      "source": [
        "- What is the computation cost of pooling ?\n",
        "  - Input is (c, h, w) and pooling size is (p)\n",
        "  - if there is same padding $(c * (h-p+1) * (w-p+1) * p^2)$\n",
        "  - If there is stride p in both the directions, $(c * (h-p+1) * (w-p+1))$\n",
        "\n",
        "- Relu(x) = Max(0, x). Implement Max(a, b) using Relu(x)\n",
        "  - Total = a + b\n",
        "  - Smaller = (Total - Relu(a-b) - Relu(b-a))/2\n",
        "  - larger = Total - Smaller\n",
        "- Max(a1... an) can be implemented as\n",
        "  - for i in n:\n",
        "    - for j in n:\n",
        "      - max = max(max, max(i, j))    "
      ],
      "metadata": {
        "id": "h68aCrG6ORjx"
      }
    },
    {
      "cell_type": "code",
      "source": [],
      "metadata": {
        "id": "6zHPUzXKM0OA"
      },
      "execution_count": null,
      "outputs": []
    }
  ]
}