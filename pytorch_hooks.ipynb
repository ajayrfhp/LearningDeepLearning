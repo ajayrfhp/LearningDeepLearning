{
  "nbformat": 4,
  "nbformat_minor": 0,
  "metadata": {
    "colab": {
      "provenance": [],
      "authorship_tag": "ABX9TyPCdUA3Fgty/vVUy2zeRga1",
      "include_colab_link": true
    },
    "kernelspec": {
      "name": "python3",
      "display_name": "Python 3"
    },
    "language_info": {
      "name": "python"
    }
  },
  "cells": [
    {
      "cell_type": "markdown",
      "metadata": {
        "id": "view-in-github",
        "colab_type": "text"
      },
      "source": [
        "<a href=\"https://colab.research.google.com/github/ajayrfhp/LearningDeepLearning/blob/main/pytorch_hooks.ipynb\" target=\"_parent\"><img src=\"https://colab.research.google.com/assets/colab-badge.svg\" alt=\"Open In Colab\"/></a>"
      ]
    },
    {
      "cell_type": "code",
      "execution_count": null,
      "metadata": {
        "id": "ODXrcqfPnJro"
      },
      "outputs": [],
      "source": [
        "import torch\n",
        "import torch.nn as nn"
      ]
    },
    {
      "cell_type": "markdown",
      "source": [
        "- Once e.backward() is called, only gradients to leaf node can be visualized. Hooks on tensors allow us to access/modify intermediate gradients\n",
        "- Hooks on modules allow us to access intermediate layers easily\n",
        "- [Video on hooks](https://www.youtube.com/watch?v=syLFCVYua6Q&ab_channel=ElliotWaite)"
      ],
      "metadata": {
        "id": "09-yCxiw-qis"
      }
    },
    {
      "cell_type": "code",
      "source": [
        "def example_without_hook():\n",
        "  a = torch.tensor(2.0, requires_grad=True)\n",
        "  b = torch.tensor(3.0, requires_grad=True)\n",
        "\n",
        "  c = a * b\n",
        "  d = torch.tensor(4.0, requires_grad=True)\n",
        "\n",
        "  e = c * d\n",
        "\n",
        "  e.backward()\n",
        "  print(d.grad, c.grad)\n",
        "\n",
        "example_without_hook()"
      ],
      "metadata": {
        "colab": {
          "base_uri": "https://localhost:8080/"
        },
        "id": "ej2RBzbHnOuL",
        "outputId": "182d02a4-cb8d-483f-f79b-c318c1621fd0"
      },
      "execution_count": null,
      "outputs": [
        {
          "output_type": "stream",
          "name": "stdout",
          "text": [
            "tensor(6.) None\n"
          ]
        },
        {
          "output_type": "stream",
          "name": "stderr",
          "text": [
            "<ipython-input-37-1aa809d56428>:11: UserWarning: The .grad attribute of a Tensor that is not a leaf Tensor is being accessed. Its .grad attribute won't be populated during autograd.backward(). If you indeed want the .grad field to be populated for a non-leaf Tensor, use .retain_grad() on the non-leaf Tensor. If you access the non-leaf Tensor by mistake, make sure you access the leaf Tensor instead. See github.com/pytorch/pytorch/pull/30531 for more informations. (Triggered internally at aten/src/ATen/core/TensorBody.h:489.)\n",
            "  print(d.grad, c.grad)\n"
          ]
        }
      ]
    },
    {
      "cell_type": "code",
      "source": [
        "def example_with_hook():\n",
        "  a = torch.tensor(2.0, requires_grad=True)\n",
        "  b = torch.tensor(3.0, requires_grad=True)\n",
        "\n",
        "  c = a * b\n",
        "  c.retain_grad()\n",
        "  c.register_hook(lambda x : print(\"gradient of c is\", x))\n",
        "  d = torch.tensor(4.0, requires_grad=True)\n",
        "\n",
        "  e = c * d\n",
        "\n",
        "  e.backward()\n",
        "  print(d.grad, c.grad)\n",
        "\n",
        "example_with_hook()"
      ],
      "metadata": {
        "colab": {
          "base_uri": "https://localhost:8080/"
        },
        "id": "3FilIORXuVGU",
        "outputId": "0f2e43c9-85dc-4f5b-e660-8fc580387932"
      },
      "execution_count": null,
      "outputs": [
        {
          "output_type": "stream",
          "name": "stdout",
          "text": [
            "gradient of c is tensor(4.)\n",
            "tensor(6.) tensor(4.)\n"
          ]
        }
      ]
    },
    {
      "cell_type": "code",
      "source": [
        "def example_module_with_hook():\n",
        "  class SumNet(nn.Module):\n",
        "    def __init__(self):\n",
        "      super(SumNet, self).__init__()\n",
        "\n",
        "    def forward(self, a, b, c):\n",
        "      d = a + b + c\n",
        "      return d\n",
        "\n",
        "  def forward_hook(module, inputs, output):\n",
        "    return output\n",
        "\n",
        "  sum_net = SumNet()\n",
        "  a = torch.tensor(1.0, requires_grad=True)\n",
        "  b = torch.tensor(2.0, requires_grad=True)\n",
        "  c = torch.tensor(3.0, requires_grad=True)\n",
        "  f = sum_net.register_forward_hook(forward_hook)\n",
        "  print(sum_net.forward(1, 2, 3))\n",
        "\n",
        "example_module_with_hook()"
      ],
      "metadata": {
        "colab": {
          "base_uri": "https://localhost:8080/"
        },
        "id": "LKtx5D5_xryo",
        "outputId": "fed50ac9-31aa-4c90-c2ae-1bc61bd3116d"
      },
      "execution_count": null,
      "outputs": [
        {
          "output_type": "stream",
          "name": "stdout",
          "text": [
            "6\n"
          ]
        }
      ]
    },
    {
      "cell_type": "code",
      "source": [],
      "metadata": {
        "id": "M0_8de1Z-pWE"
      },
      "execution_count": null,
      "outputs": []
    },
    {
      "cell_type": "code",
      "source": [
        "def example_get_layer_output_with_hook():\n",
        "  class Net(nn.Module):\n",
        "    def __init__(self):\n",
        "      super(Net, self).__init__()\n",
        "      self.model = nn.Sequential(\n",
        "          nn.LazyLinear(10),\n",
        "          nn.ReLU(),\n",
        "          nn.LazyLinear(20),\n",
        "          nn.ReLU(),\n",
        "          nn.LazyLinear(30),\n",
        "      )\n",
        "\n",
        "    def forward(self, x):\n",
        "      return self.model(x)\n",
        "\n",
        "\n",
        "  def get_activation(name):\n",
        "    def hook(module, inputs, output):\n",
        "      global activation\n",
        "      activation[name] = output\n",
        "    return hook\n",
        "\n",
        "  net = Net()\n",
        "  global activation\n",
        "  activation = {}\n",
        "  list(net.model.children())[0].register_forward_hook(get_activation('f1'))\n",
        "  list(net.model.children())[2].register_forward_hook(get_activation('f2'))\n",
        "  list(net.model.children())[4].register_forward_hook(get_activation('f3'))\n",
        "\n",
        "  x = torch.randn((1, 5))\n",
        "  net.forward(x)\n",
        "  print(activation['f1'].shape)\n",
        "  print(activation['f2'].shape)\n",
        "  print(activation['f3'].shape)\n",
        "\n",
        "example_get_layer_output_with_hook()"
      ],
      "metadata": {
        "colab": {
          "base_uri": "https://localhost:8080/"
        },
        "id": "mBZZbFssyHqH",
        "outputId": "da0ffd3c-8184-4cf9-e9dd-d9548f151fc8"
      },
      "execution_count": null,
      "outputs": [
        {
          "output_type": "stream",
          "name": "stdout",
          "text": [
            "torch.Size([1, 10])\n",
            "torch.Size([1, 20])\n",
            "torch.Size([1, 30])\n"
          ]
        }
      ]
    },
    {
      "cell_type": "code",
      "source": [],
      "metadata": {
        "id": "l_0WBeRF9wEP"
      },
      "execution_count": null,
      "outputs": []
    }
  ]
}