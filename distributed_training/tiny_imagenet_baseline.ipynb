{
 "cells": [
  {
   "cell_type": "markdown",
   "metadata": {},
   "source": [
    "## Goal\n",
    "- Implement classification with resnet18 in tinyImagenet dataset using d2l library\n",
    "    - Wrap tiny imagenet data under d2l library\n",
    "    - Fit with GPU\n",
    "    - Record validation losses, accuracy, time taken to train"
   ]
  },
  {
   "cell_type": "code",
   "execution_count": null,
   "metadata": {},
   "outputs": [],
   "source": [
    "import torch\n",
    "import time\n",
    "import d2l.torch as d2l\n",
    "import torch.nn as nn\n",
    "import numpy as np\n",
    "from matplotlib import pyplot as plt\n",
    "from torchvision.transforms import transforms\n",
    "from torchvision.models import resnet18\n",
    "from torch.optim import Adam\n",
    "from torch.utils.data import DataLoader, Dataset\n",
    "from datasets import load_dataset, Image\n",
    "import json\n",
    "import requests"
   ]
  },
  {
   "cell_type": "code",
   "execution_count": null,
   "metadata": {},
   "outputs": [],
   "source": [
    "batch_size = 256\n",
    "num_workers = 2\n",
    "learning_rate = 0.01\n",
    "num_epochs = 2\n",
    "device = d2l.try_gpu()\n",
    "device"
   ]
  },
  {
   "cell_type": "code",
   "execution_count": null,
   "metadata": {},
   "outputs": [],
   "source": [
    "class TinyImagenetD2l(d2l.Module):\n",
    "    def __init__(self, batch_size, num_workers):\n",
    "        super().__init__()\n",
    "        self.save_hyperparameters()\n",
    "        self.train_data = load_dataset(\"Maysee/tiny-imagenet\", split=\"train\")\n",
    "        self.val_data = load_dataset(\"Maysee/tiny-imagenet\", split=\"valid\")\n",
    "        self.transform = transforms.Compose([\n",
    "            transforms.Resize((128, 128)),\n",
    "            transforms.ToTensor()\n",
    "        ])\n",
    "        self.get_imagenet_labels()\n",
    "\n",
    "        # get number of classes\n",
    "        self.num_classes = self.train_data.features['label'].num_classes\n",
    "\n",
    "    def get_imagenet_labels(self):\n",
    "        response = requests.get(\"https://s3.amazonaws.com/deep-learning-models/image-models/imagenet_class_index.json\")\n",
    "        imagenet_index = json.loads(response.text)\n",
    "        self.imagenet_reverse_index = { v[0]:v[1] for k, v in imagenet_index.items()}\n",
    "\n",
    "    def transforms(self, batch):\n",
    "        batch['image'] = [self.transform(x.convert(\"RGB\")) for x in batch['image']]\n",
    "        batch['label'] = torch.tensor(batch['label'])\n",
    "        return batch\n",
    "\n",
    "    def get_dataloader(self, train):\n",
    "        data = self.train_data if train else self.val_data\n",
    "        data.set_transform(self.transforms)\n",
    "        dataloader = DataLoader(data, batch_size=self.batch_size, shuffle=train)\n",
    "        return dataloader\n",
    "    \n",
    "    def train_dataloader(self):\n",
    "        return self.get_dataloader(train=True)\n",
    "    \n",
    "    def val_dataloader(self):\n",
    "        return self.get_dataloader(train=False)\n",
    "\n",
    "    def visualize(self, batch, max_images=16):\n",
    "        images = batch['image'][:max_images].permute(0, 2, 3, 1)\n",
    "        labels = batch['label'][:max_images].unsqueeze(1)\n",
    "        labels = self.train_data.features['label'].int2str(labels)\n",
    "        \n",
    "        labels = [self.imagenet_reverse_index[label] if label in self.imagenet_reverse_index.keys() else label for label in labels]\n",
    "\n",
    "        d2l.show_images(images, 4, 4, titles=labels)\n",
    "        \n",
    "    \n",
    "\n",
    "tiny_imagenet = TinyImagenetD2l(batch_size, num_workers)\n",
    "train_loader = tiny_imagenet.get_dataloader(train=True)\n",
    "val_loader = tiny_imagenet.get_dataloader(train=False)\n",
    "\n",
    "tiny_imagenet.visualize(next(iter(train_loader)))\n",
    "\n",
    "        \n"
   ]
  },
  {
   "cell_type": "code",
   "execution_count": null,
   "metadata": {},
   "outputs": [],
   "source": [
    "class ResnetD2l(d2l.Classifier):\n",
    "    def __init__(self, num_classes, pretrained=False, lr=0.01):\n",
    "        super().__init__()\n",
    "        self.save_hyperparameters()\n",
    "        self.net = resnet18(pretrained=pretrained)\n",
    "        self.net.fc = nn.Linear(512, num_classes)\n",
    "\n",
    "        def init_weights(m):\n",
    "            if type(m) == nn.Linear or type(m) == nn.Conv2d:\n",
    "                nn.init.xavier_uniform_(m.weight)\n",
    "        self.net.apply(init_weights)\n",
    "    \n",
    "    def forward(self, x):\n",
    "        return self.net(x)\n",
    "    \n",
    "    def loss(self, y_hat, y):\n",
    "        return nn.CrossEntropyLoss()(y_hat, y)"
   ]
  },
  {
   "cell_type": "code",
   "execution_count": null,
   "metadata": {},
   "outputs": [],
   "source": [
    "@d2l.add_to_class(d2l.Trainer)\n",
    "def prepare_batch(self, batch):\n",
    "    x = batch['image']\n",
    "    y = batch['label']\n",
    "    return (x.to(self.device), y.to(self.device))"
   ]
  },
  {
   "cell_type": "code",
   "execution_count": null,
   "metadata": {},
   "outputs": [],
   "source": [
    "data = TinyImagenetD2l(batch_size, num_workers)\n",
    "model = ResnetD2l(num_classes=data.num_classes, pretrained=False, lr=learning_rate)\n",
    "model.to(device)\n",
    "trainer = d2l.Trainer(max_epochs=num_epochs, num_gpus=1)\n",
    "trainer.device = device\n",
    "trainer.fit(model=model, data=data)\n"
   ]
  },
  {
   "cell_type": "code",
   "execution_count": null,
   "metadata": {},
   "outputs": [],
   "source": [
    "model = ResnetD2l(num_classes=data.num_classes, pretrained=True, lr=learning_rate)\n",
    "model.to(device)\n",
    "trainer = d2l.Trainer(max_epochs=num_epochs, num_gpus=1)\n",
    "trainer.device = device\n",
    "trainer.fit(model=model, data=data)"
   ]
  },
  {
   "cell_type": "code",
   "execution_count": null,
   "metadata": {},
   "outputs": [],
   "source": []
  }
 ],
 "metadata": {
  "kernelspec": {
   "display_name": "GPT2",
   "language": "python",
   "name": "python3"
  },
  "language_info": {
   "codemirror_mode": {
    "name": "ipython",
    "version": 3
   },
   "file_extension": ".py",
   "mimetype": "text/x-python",
   "name": "python",
   "nbconvert_exporter": "python",
   "pygments_lexer": "ipython3",
   "version": "3.11.0"
  }
 },
 "nbformat": 4,
 "nbformat_minor": 2
}
