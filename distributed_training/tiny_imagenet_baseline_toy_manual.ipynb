{
 "cells": [
  {
   "cell_type": "markdown",
   "metadata": {},
   "source": [
    "## Goal\n",
    "- Implement classification with resnet18 in tinyImagenet dataset using d2l library\n",
    "    - Wrap tiny imagenet data under d2l library\n",
    "    - Fit with GPU\n",
    "    - Record validation losses, accuracy, time taken to train"
   ]
  },
  {
   "cell_type": "code",
   "execution_count": null,
   "metadata": {},
   "outputs": [],
   "source": [
    "import torch\n",
    "import time\n",
    "import d2l.torch as d2l\n",
    "import torch.nn as nn\n",
    "import numpy as np\n",
    "from matplotlib import pyplot as plt\n",
    "from d2l_data import TinyImagenetD2l\n",
    "from models import ResnetD2l"
   ]
  },
  {
   "cell_type": "code",
   "execution_count": null,
   "metadata": {},
   "outputs": [],
   "source": [
    "batch_size = 256\n",
    "num_workers = 2\n",
    "learning_rate = 0.01\n",
    "num_epochs = 20\n",
    "device = d2l.try_gpu()\n",
    "device"
   ]
  },
  {
   "cell_type": "code",
   "execution_count": null,
   "metadata": {},
   "outputs": [],
   "source": [
    "tiny_imagenet = TinyImagenetD2l(batch_size=batch_size, num_workers=num_workers,is_toy=True, is_ddp=False)\n",
    "batch = next(iter(tiny_imagenet.get_dataloader(train=True)))\n",
    "tiny_imagenet.visualize(batch=batch, max_images=5)\n"
   ]
  },
  {
   "cell_type": "code",
   "execution_count": null,
   "metadata": {},
   "outputs": [],
   "source": [
    "from trainer import CustomTrainer\n",
    "data = TinyImagenetD2l(batch_size, num_workers, is_toy=True)\n",
    "num_training_batches = len(data.train_data)\n",
    "num_val_batches = len(data.val_data)\n",
    "model = ResnetD2l(num_classes=data.num_classes, pretrained=False, lr=learning_rate)\n",
    "model.to(device)\n",
    "\n",
    "trainer = CustomTrainer(max_epochs=num_epochs, num_gpus=1, title=f\"TinyImagenet_is_toy_{data.is_toy}_lr_{learning_rate}\")\n",
    "trainer.device = device\n",
    "trainer.fit(model=model, data=data)\n",
    "\n",
    "model.display_metrics(num_training_batches, num_val_batches)\n",
    "\n",
    "\n"
   ]
  },
  {
   "cell_type": "code",
   "execution_count": null,
   "metadata": {},
   "outputs": [],
   "source": []
  }
 ],
 "metadata": {
  "kernelspec": {
   "display_name": "GPT2",
   "language": "python",
   "name": "python3"
  },
  "language_info": {
   "codemirror_mode": {
    "name": "ipython",
    "version": 3
   },
   "file_extension": ".py",
   "mimetype": "text/x-python",
   "name": "python",
   "nbconvert_exporter": "python",
   "pygments_lexer": "ipython3",
   "version": "3.11.0"
  }
 },
 "nbformat": 4,
 "nbformat_minor": 2
}
