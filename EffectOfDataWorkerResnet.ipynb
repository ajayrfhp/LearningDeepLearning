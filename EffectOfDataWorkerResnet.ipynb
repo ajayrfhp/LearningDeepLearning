{
 "cells": [
  {
   "cell_type": "code",
   "execution_count": null,
   "metadata": {},
   "outputs": [],
   "source": [
    "import torch\n",
    "from torchvision import transforms, models\n",
    "from datasets import load_dataset\n",
    "import time\n",
    "import numpy as np\n",
    "import matplotlib.pyplot as plt"
   ]
  },
  {
   "cell_type": "code",
   "execution_count": null,
   "metadata": {},
   "outputs": [],
   "source": [
    "# set seed for reproducibility in torch, numpy and gpu\n",
    "\n",
    "torch.manual_seed(710)\n",
    "np.random.seed(710)\n",
    "\n",
    "\n"
   ]
  },
  {
   "cell_type": "code",
   "execution_count": null,
   "metadata": {},
   "outputs": [],
   "source": [
    "tiny_imagenet = load_dataset(\"Maysee/tiny-imagenet\", split=\"train\")\n",
    "tiny_imagenet[0]"
   ]
  },
  {
   "cell_type": "code",
   "execution_count": null,
   "metadata": {},
   "outputs": [],
   "source": [
    "device = torch.device(\"cuda\" if torch.cuda.is_available() else \"cpu\")\n",
    "device"
   ]
  },
  {
   "cell_type": "code",
   "execution_count": null,
   "metadata": {},
   "outputs": [],
   "source": [
    "# Convert to torch dataset\n",
    "\n",
    "class TinyImageNet(torch.utils.data.Dataset):\n",
    "    def __init__(self, dataset, transform=None):\n",
    "        self.dataset = dataset\n",
    "        self.transform = transform\n",
    "\n",
    "    def __len__(self):\n",
    "        return len(self.dataset)\n",
    "\n",
    "    def __getitem__(self, idx):\n",
    "        x, y = self.dataset[idx][\"image\"], self.dataset[idx][\"label\"]\n",
    "        # convert x to RGB\n",
    "        x = x.convert(\"RGB\")\n",
    "        if self.transform:\n",
    "            x = self.transform(x)\n",
    "        y = torch.tensor(y, dtype=torch.int64)\n",
    "        return x, y\n",
    "\n",
    "# Define transformations\n",
    "transform = transforms.Compose([\n",
    "    transforms.Resize((224, 224)),\n",
    "    transforms.ToTensor()\n",
    "])\n",
    "\n",
    "tiny_imagenet_torch = TinyImageNet(tiny_imagenet, transform=transform)\n",
    "type(tiny_imagenet_torch[0])"
   ]
  },
  {
   "cell_type": "markdown",
   "metadata": {},
   "source": [
    "### Compare effect of number of workers on data size"
   ]
  },
  {
   "cell_type": "code",
   "execution_count": null,
   "metadata": {},
   "outputs": [],
   "source": [
    "def time_load_transfer_train(data_loader, num_batches, rolling_window=20):\n",
    "    data_load_times = []\n",
    "    gpu_transfer_times = []\n",
    "\n",
    "    forward_backward_times = []\n",
    "\n",
    "\n",
    "    data_load_start_time = time.time()\n",
    "    for i, (x, y) in enumerate(data_loader):\n",
    "        data_load_end_time = time.time()\n",
    "        data_load_time_taken = data_load_end_time - data_load_start_time\n",
    "        \n",
    "        data_load_times.append(data_load_time_taken)\n",
    "            \n",
    "        \n",
    "        gpu_transfer_start_time = time.time()\n",
    "        \n",
    "        # transfer to GPU\n",
    "        x = x.to(device)\n",
    "        y = y.to(device)\n",
    "        gpu_transfer_end_time = time.time()\n",
    "        gpu_transfer_time_taken = gpu_transfer_end_time - gpu_transfer_start_time\n",
    "        gpu_transfer_times.append(gpu_transfer_time_taken)\n",
    "        \n",
    "        # clear grads optimizer\n",
    "        optimizer.zero_grad()\n",
    "\n",
    "        # forward pass\n",
    "        forward_backward_start_time = time.time()\n",
    "        y_hat = model(x)\n",
    "        loss = torch.nn.functional.cross_entropy(y_hat, y)\n",
    "        loss.backward()\n",
    "        # backward pass\n",
    "        optimizer.step()\n",
    "\n",
    "        forward_backward_end_time = time.time()\n",
    "\n",
    "        forward_backward_time_taken = forward_backward_end_time - forward_backward_start_time \n",
    "        forward_backward_times.append(forward_backward_time_taken)   \n",
    "        data_load_start_time = time.time()    \n",
    "\n",
    "        if i == num_batches:\n",
    "            break\n",
    "    data_load_times = np.array(data_load_times)\n",
    "    gpu_transfer_times = np.array(gpu_transfer_times)\n",
    "\n",
    "    # apply rolling average\n",
    "    data_load_times = np.convolve(data_load_times, np.ones(rolling_window)/rolling_window, mode='valid')\n",
    "    gpu_transfer_times = np.convolve(gpu_transfer_times, np.ones(rolling_window)/rolling_window, mode='valid')\n",
    "    forward_backward_times = np.convolve(forward_backward_times, np.ones(rolling_window)/rolling_window, mode='valid')\n",
    "\n",
    "    return {\n",
    "        \"data_load_mean\": np.round(np.mean(data_load_times), 2),\n",
    "        \"gpu_transfer_mean\": np.round(np.mean(gpu_transfer_times), 2),\n",
    "        \"forward_backward_mean\": np.round(np.mean(forward_backward_times), 2),\n",
    "        \"data_load_times\": data_load_times,\n",
    "        \"gpu_transfer_times\": gpu_transfer_times,\n",
    "        \"forward_backward_times\": forward_backward_times,\n",
    "    }\n",
    "\n",
    "\n",
    "\n",
    "num_batches = 100\n",
    "batch_size = 256\n",
    "batch_ids = None\n",
    "\n",
    "for num_workers in [0, 2, 4, 8]:\n",
    "    model = models.resnet18(pretrained=True)\n",
    "    optimizer = torch.optim.Adam(model.parameters(), lr=0.001)\n",
    "    model.to(device)\n",
    "\n",
    "    data_loader = torch.utils.data.DataLoader(tiny_imagenet_torch, batch_size=batch_size, shuffle=True, num_workers=num_workers)\n",
    "    data_load_times_dict = time_load_transfer_train(data_loader=data_loader, num_batches=num_batches)\n",
    "    if batch_ids is None:\n",
    "        batch_ids = np.arange(len(data_load_times_dict['data_load_times']))\n",
    "    \n",
    "    plt.figure(figsize=(10, 5))\n",
    "    plt.plot(batch_ids, data_load_times_dict['data_load_times'], label=f\"load time avg {data_load_times_dict['data_load_mean']}\", marker=\"o\", alpha=0.5)\n",
    "    plt.plot(batch_ids, data_load_times_dict['gpu_transfer_times'], label=f\"gpu transfer time avg {data_load_times_dict['gpu_transfer_mean']}\", marker=\"o\", alpha=0.5)\n",
    "    plt.plot(batch_ids, data_load_times_dict['forward_backward_times'], label=f\"forward backward time avg {data_load_times_dict['forward_backward_mean']}\", marker=\"o\", alpha=0.5)\n",
    "\n",
    "    plt.xlabel(\"Batch ID\")\n",
    "    plt.ylabel(\"Time (s)\")\n",
    "    plt.title(f\"Data Load and GPU Transfer Times with {num_workers} workers\")\n",
    "    plt.legend()\n",
    "    plt.show()\n",
    "\n",
    "    # clear memory\n",
    "    del data_loader\n",
    "    del model\n",
    "    del optimizer\n",
    "    torch.cuda.empty_cache()\n",
    "    time.sleep(5)\n",
    "\n",
    "\n",
    "\n",
    "\n"
   ]
  },
  {
   "cell_type": "markdown",
   "metadata": {},
   "source": [
    "## Concluding remarks\n",
    "- With more workers, we were able to slash down the data load time\n",
    "- Interstingly, the bottleneck is cpu to gpu transfer time. I can't use larger batch sizes because my 8 GB memory is full\n",
    "    - 256 * 224 * 224 * 3 * 2 = "
   ]
  },
  {
   "cell_type": "code",
   "execution_count": null,
   "metadata": {},
   "outputs": [],
   "source": []
  }
 ],
 "metadata": {
  "kernelspec": {
   "display_name": "GPT2",
   "language": "python",
   "name": "python3"
  },
  "language_info": {
   "codemirror_mode": {
    "name": "ipython",
    "version": 3
   },
   "file_extension": ".py",
   "mimetype": "text/x-python",
   "name": "python",
   "nbconvert_exporter": "python",
   "pygments_lexer": "ipython3",
   "version": "3.11.0"
  }
 },
 "nbformat": 4,
 "nbformat_minor": 2
}
