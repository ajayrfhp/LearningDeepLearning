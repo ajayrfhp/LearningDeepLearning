{
 "cells": [
  {
   "cell_type": "markdown",
   "metadata": {},
   "source": [
    "## Variance\n",
    "\n",
    "Variance is defined as follows\n",
    "\n",
    "$\\text{Variance} = \\frac{1}{N} \\sum_{i=1}^{N} (x_i - \\mu)^2$\n",
    "\n",
    "- Describes spread of samples\n",
    "- Units of variance is square of sample, that is why we prefer std deviation, which is sqrt of variance, standardized, same units as input. \n",
    "- To estimate population mean with sample data, apply bessel correction of N = n-1, unbiased estimator. Does not matter for large N. MLE, biased. Variance, Unbiased."
   ]
  },
  {
   "cell_type": "code",
   "execution_count": 10,
   "metadata": {},
   "outputs": [
    {
     "name": "stdout",
     "output_type": "stream",
     "text": [
      "10.0\n",
      "237614.0\n"
     ]
    }
   ],
   "source": [
    "a = [2, 4, 6, 8, 10]\n",
    "b = [2, 4, 6, 8, 10, 1200]\n",
    "\n",
    "def get_mean(x:list[int]) -> float:\n",
    "    return sum(x) / len(x)\n",
    "\n",
    "def get_variance(x:list[int]) -> float:\n",
    "    mean = get_mean(x)\n",
    "    numerator = 0\n",
    "    for x_i in x:\n",
    "        numerator += (x_i - mean) ** 2\n",
    "    variance = numerator / (len(x) - 1)\n",
    "    return variance\n",
    "\n",
    "print(get_variance(a))\n",
    "print(get_variance(b))"
   ]
  },
  {
   "cell_type": "code",
   "execution_count": 11,
   "metadata": {},
   "outputs": [
    {
     "data": {
      "text/plain": [
       "1.0"
      ]
     },
     "execution_count": 11,
     "metadata": {},
     "output_type": "execute_result"
    }
   ],
   "source": [
    "get_variance([1, 2, 3])"
   ]
  },
  {
   "cell_type": "markdown",
   "metadata": {},
   "source": [
    "### Covariance\n",
    "- Describes how two variances change together. Height, weight change together, temperature and ice cream change together. \n",
    "- Covariance(X, X) = variance(X)\n",
    "- Covariance changes based on units, correlation is normalized\n",
    "\n",
    "$\\text{Covariance}(X, Y) = \\frac{1}{N} \\sum_{i=1}^{N} (x_i - \\mu_X)(y_i - \\mu_Y)$\n"
   ]
  },
  {
   "cell_type": "code",
   "execution_count": 6,
   "metadata": {},
   "outputs": [
    {
     "name": "stdout",
     "output_type": "stream",
     "text": [
      "4.0\n",
      "-51.2\n"
     ]
    }
   ],
   "source": [
    "def get_covariance(x:list[int], y:list[int]) -> float:\n",
    "    mean_x = get_mean(x)\n",
    "    mean_y = get_mean(y)\n",
    "\n",
    "    numerator = 0 \n",
    "    for x_i, y_i in zip(x, y):\n",
    "        numerator += (x_i - mean_x) * (y_i - mean_y)\n",
    "    covariance = numerator / len(x)\n",
    "    return covariance\n",
    "\n",
    "a = [2, 4, 6, 8, 10]\n",
    "b = [1, 2, 3, 4, 5]\n",
    "c = [42, 12, 76, -32, 0]\n",
    "print(get_covariance(a, b))\n",
    "print(get_covariance(a, c))"
   ]
  },
  {
   "cell_type": "code",
   "execution_count": 8,
   "metadata": {},
   "outputs": [
    {
     "data": {
      "text/plain": [
       "8.0"
      ]
     },
     "execution_count": 8,
     "metadata": {},
     "output_type": "execute_result"
    }
   ],
   "source": [
    "get_covariance(a, a)"
   ]
  },
  {
   "cell_type": "markdown",
   "metadata": {},
   "source": [
    "## Covariance matrix\n",
    "- Covariance matrix is defined for n variables, each entry (i, j) in matrix describes covariance between the variables\n",
    "\n",
    "$$\n",
    "\\text{Covariance Matrix for 3 variables} = \n",
    "\\begin{bmatrix}\n",
    "\\text{Cov}(a, a) & \\text{Cov}(a, b) & \\text{Cov}(a, c) \\\\\n",
    "\\text{Cov}(b, a) & \\text{Cov}(b, b) & \\text{Cov}(b, c) \\\\\n",
    "\\text{Cov}(c, a) & \\text{Cov}(c, b) & \\text{Cov}(c, c)\n",
    "\\end{bmatrix}\n",
    "$$\n",
    "\n",
    "Where:\n",
    "\n",
    "- $\\text{Cov}(a, a)$ is the variance of `a`\n",
    "- $\\text{Cov}(a, b)$ is the covariance between `a` and `b`\n",
    "- $\\text{Cov}(a, c)$ is the covariance between `a` and `c`\n",
    "- $\\text{Cov}(b, b)$ is the variance of `b`\n",
    "- $\\text{Cov}(b, c)$ is the covariance between `b` and `c`\n",
    "- $\\text{Cov}(c, c)$ is the variance of `c`"
   ]
  },
  {
   "cell_type": "code",
   "execution_count": 7,
   "metadata": {},
   "outputs": [
    {
     "name": "stdout",
     "output_type": "stream",
     "text": [
      "[[8.0, 4.0, -51.2], [4.0, 2.0, -25.6], [-51.2, -25.6, 1357.44]]\n"
     ]
    }
   ],
   "source": [
    "def get_covariance_matrix(x:list[list[int]]) -> list[list[float]]:\n",
    "    n = len(x)\n",
    "    covariance_matrix = []\n",
    "    for i in range(n):\n",
    "        covariance_vector = []\n",
    "        for j in range(n):\n",
    "            covariance = get_covariance(x[i], x[j])\n",
    "            covariance_vector.append(covariance)\n",
    "        covariance_matrix.append(covariance_vector)\n",
    "    return covariance_matrix\n",
    "\n",
    "a = [2, 4, 6, 8, 10]\n",
    "b = [1, 2, 3, 4, 5]\n",
    "c = [42, 12, 76, -32, 0]\n",
    "X = [a, b, c]\n",
    "print(get_covariance_matrix(X))"
   ]
  },
  {
   "cell_type": "code",
   "execution_count": null,
   "metadata": {},
   "outputs": [],
   "source": []
  }
 ],
 "metadata": {
  "kernelspec": {
   "display_name": "GPT2",
   "language": "python",
   "name": "python3"
  },
  "language_info": {
   "codemirror_mode": {
    "name": "ipython",
    "version": 3
   },
   "file_extension": ".py",
   "mimetype": "text/x-python",
   "name": "python",
   "nbconvert_exporter": "python",
   "pygments_lexer": "ipython3",
   "version": "3.11.0"
  }
 },
 "nbformat": 4,
 "nbformat_minor": 2
}
